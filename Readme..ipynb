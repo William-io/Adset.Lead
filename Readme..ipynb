{
 "cells": [
  {
   "cell_type": "markdown",
   "id": "a3516448",
   "metadata": {},
   "source": [
    "# Adset.Lead - Sistema de Gestão de Veículos\n",
    "\n",
    "Sistema completo para gestão de estoque de veículos com interface web moderna e API robusta.\n",
    "\n",
    "## **Visão Geral**\n",
    "\n",
    "- **Backend**: ASP.NET Core 8 + Entity Framework Core\n",
    "- **Frontend**: Angular 12 + Material Design\n",
    "- **Banco de dados**: SQL Server\n",
    "- **Arquitetura**: Domain-Driven Design (DDD) + CQRS + MediatR, Clean Architecture"
   ]
  },
  {
   "cell_type": "markdown",
   "id": "260baaee",
   "metadata": {},
   "source": [
    "\n",
    "\n",
    "### **Dashboard**\n",
    "- **Estatísticas em tempo real**: Total de veículos, com fotos, sem fotos\n",
    "- **Contadores visuais**: Interface intuitiva com números formatados\n",
    "- **Botões de ação rápida**: Registrar veículo e exportar estoque\n",
    "\n",
    "### **Gestão de Veículos**\n",
    "- **Cadastro completo**: Marca, modelo, ano, placa, cor, preço, KM\n",
    "- **Upload de imagens**: Sistema drag & drop com preview\n",
    "- **Opcionais do veículo**: Ar condicionado, alarme, airbag, freio ABS, MP3\n",
    "- **Portal e pacotes**: iCarros (Bronze/Diamond/Platinum), WebMotors (Basic)\n",
    "- **Edição em lote**: Múltiplas alterações simultâneas\n",
    "\n",
    "### **Sistema de Busca**\n",
    "- **Filtros avançados**: Por placa, marca, modelo, ano, preço, cor\n",
    "- **Filtro por fotos**: Com fotos, sem fotos, todos\n",
    "- **Filtro por opcionais**: Busca específica por características\n",
    "- **Limpar filtros**: Reset rápido de todos os filtros\n",
    "\n",
    "### **Exportação**\n",
    "- **Excel profissional**: Exportação completa do estoque\n",
    "- **Dados formatados**: Colunas organizadas e legíveis\n",
    "- **Nome automático**: Arquivo com data de exportação\n",
    "- **Download automático**: Pronto para usar no Excel"
   ]
  },
  {
   "cell_type": "markdown",
   "id": "d5b9e087",
   "metadata": {},
   "source": [
    "### **1. Pré-requisitos**\n",
    "- **.NET 8 SDK**\n",
    "- **Node.js 16.20.2** \n",
    "- **SQL Server** (LocalDB ou completo)\n",
    "- **Angular CLI**: `npm install -g @angular/cli@12`\n",
    "\n",
    "### **2. Configuração do Backend**\n",
    "\n",
    "```bash\n",
    "# Navegar para o diretório da API\n",
    "cd Source/Adset.Lead.API\n",
    "\n",
    "# Restaurar dependências\n",
    "dotnet restore\n",
    "\n",
    "# Executar migrações do banco\n",
    "dotnet ef database update\n",
    "\n",
    "# Iniciar a API\n",
    "dotnet run\n",
    "```\n",
    "\n",
    "**API estará disponível em**: `https://localhost:5062`\n",
    "\n",
    "### **3. Configuração do Frontend**\n",
    "\n",
    "```bash\n",
    "# Navegar para o diretório do App\n",
    "cd Source/Adset.Lead.App\n",
    "\n",
    "# Instalar dependências\n",
    "npm install\n",
    "\n",
    "# Iniciar o servidor de desenvolvimento\n",
    "ng serve\n",
    "```\n",
    "\n",
    "**Aplicação estará disponível em**: `http://localhost:4200`"
   ]
  },
  {
   "cell_type": "markdown",
   "id": "7ffc58d1",
   "metadata": {},
   "source": [
    "## **Solução de Problemas**\n",
    "\n",
    "### **Problemas Comuns**\n",
    "1. **API não iniciou**:\n",
    "   ```\n",
    "   - Verifique se o SQL Server está rodando\n",
    "   - Confirme a connection string em appsettings.json\n",
    "   - Execute: dotnet build --configuration Release\n",
    "   ```\n",
    "\n",
    "2. **Imagens não aparecem**:\n",
    "   ```\n",
    "   - Verifique se a pasta C:\\_adset.images existe\n",
    "   - Confirme permissões da pasta\n",
    "   - Teste o endpoint: GET /api/images/{filename}\n",
    "   ```"
   ]
  }
 ],
 "metadata": {
  "language_info": {
   "name": "python"
  }
 },
 "nbformat": 4,
 "nbformat_minor": 5
}
